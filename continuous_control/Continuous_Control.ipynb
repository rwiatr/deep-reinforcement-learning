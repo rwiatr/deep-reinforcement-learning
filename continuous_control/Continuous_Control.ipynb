{
 "cells": [
  {
   "cell_type": "markdown",
   "metadata": {},
   "source": [
    "# Continuous Control\n",
    "\n",
    "---\n",
    "\n",
    "This notebook demonstrates the use of Deep-Reinforcement-Learning in Unity environment.\n",
    "\n",
    "### 1. Start the Environment\n",
    "\n",
    "Run this code to set up the environment. Note that you may be missing some packages. \n",
    "SingleBrainEnv takes a path to a Unity app, in thos case it is Reacher for Linux without visualisations and with multiple agents."
   ]
  },
  {
   "cell_type": "code",
   "execution_count": 1,
   "metadata": {},
   "outputs": [
    {
     "name": "stderr",
     "output_type": "stream",
     "text": [
      "INFO:unityagents:\n",
      "'Academy' started successfully!\n",
      "Unity Academy name: Academy\n",
      "        Number of Brains: 1\n",
      "        Number of External Brains : 1\n",
      "        Lesson number : 0\n",
      "        Reset Parameters :\n",
      "\t\tgoal_speed -> 1.0\n",
      "\t\tgoal_size -> 5.0\n",
      "Unity brain name: ReacherBrain\n",
      "        Number of Visual Observations (per agent): 0\n",
      "        Vector Observation space type: continuous\n",
      "        Vector Observation space size (per agent): 33\n",
      "        Number of stacked Vector Observation: 1\n",
      "        Vector Action space type: continuous\n",
      "        Vector Action space size (per agent): 4\n",
      "        Vector Action descriptions: , , , \n"
     ]
    }
   ],
   "source": [
    "import sys\n",
    "sys.path.insert(0, '..') # enables the notebook to find the drl module\n",
    "\n",
    "from os.path import expanduser\n",
    "from drl.env import EnvHelper\n",
    "from drl.unity.env import SingleBrainEnv\n",
    "import drl.hyperparams as hp\n",
    "import drl.agent.DDPG as ddpg\n",
    "import torch\n",
    "\n",
    "device = torch.device(\"cuda:0\" if torch.cuda.is_available() else \"cpu\")\n",
    "env = SingleBrainEnv(expanduser(\"~\") + '/Reacher_Linux_NoVis_multi/Reacher.x86_64')\n",
    "helper = EnvHelper(env)"
   ]
  },
  {
   "cell_type": "markdown",
   "metadata": {},
   "source": [
    "### 2. Test run\n",
    "We will choose some hyperparameters and try to train the agent. The environment is considered to be solved when an agent reaches a mean score of 30 over 100 attempts."
   ]
  },
  {
   "cell_type": "code",
   "execution_count": 2,
   "metadata": {},
   "outputs": [
    {
     "name": "stdout",
     "output_type": "stream",
     "text": [
      "{'batch_size': 512, 'buffer_size': 100000, 'seed': 101, 'wd_a': 0, 'wd_c': 0.0, 'lr_c': 0.01, 'lr_a': 0.001, 'gamma': 0.99, 'tau': 0.001, 's_dim': 33, 'a_dim': 4}\n",
      "Episode 25\tAverage Score 100: 0.89\tAverage Score 10: 0.85\tScore: 0.88\tSteps: 1001\n",
      "Episode 50\tAverage Score 100: 0.52\tAverage Score 10: 0.01\tScore: 0.01\tSteps: 1001\n"
     ]
    }
   ],
   "source": [
    "conf = list(hp.hyper_space_ns({'seed': [101]}))[0]\n",
    "\n",
    "conf.batch_size = 512 # batch size for the learning phase\n",
    "conf.buffer_size = int(1e5) # size of the memory buffer\n",
    "conf.lr_c = 1e-2 # learning rate of critic\n",
    "conf.lr_a = 1e-3 # learning rate of agent\n",
    "conf.wd_c = 0.0 # weight decay of critic\n",
    "conf.s_dim = env.get_state_dim() \n",
    "conf.a_dim = env.get_action_dim()\n",
    "\n",
    "print(conf)\n",
    "helper.set_agents(ddpg.Agent(conf, device, env.get_num_agents()), 'test-run')\n",
    "helper.run_until(episodes=50, print_every=25)"
   ]
  },
  {
   "cell_type": "markdown",
   "metadata": {},
   "source": [
    "Lets see the reward plot for the agent"
   ]
  },
  {
   "cell_type": "code",
   "execution_count": 3,
   "metadata": {},
   "outputs": [
    {
     "data": {
      "image/png": "[encoded data removed]",
      "text/plain": [
       "<Figure size 432x288 with 1 Axes>"
      ]
     },
     "metadata": {
      "needs_background": "light"
     },
     "output_type": "display_data"
    }
   ],
   "source": [
    "helper.show_plot()"
   ]
  },
  {
   "cell_type": "markdown",
   "metadata": {},
   "source": [
    "### 3. Hyperparameter optimization\n",
    "In the next cell we will try to choose some agents by searching the hyperparameter space"
   ]
  },
  {
   "cell_type": "code",
   "execution_count": null,
   "metadata": {},
   "outputs": [
    {
     "name": "stdout",
     "output_type": "stream",
     "text": [
      "0 --------------------------------------------------------------\n",
      "{'batch_size': 512, 'buffer_size': 100000, 'seed': 1, 'wd_a': 0, 'wd_c': 0.0, 'lr_c': 0.0001, 'lr_a': 0.001, 'gamma': 0.99, 'tau': 0.001, 's_dim': 33, 'a_dim': 4}\n",
      "Episode 25\tAverage Score 100: 13.45\tAverage Score 10: 30.06\tScore: 37.59\tSteps: 1001\n",
      "Episode 50\tAverage Score 100: 25.05\tAverage Score 10: 35.47\tScore: 34.95\tSteps: 1001\n",
      "\n",
      "1 --------------------------------------------------------------\n",
      "{'batch_size': 512, 'buffer_size': 100000, 'seed': 1, 'wd_a': 0, 'wd_c': 0.0, 'lr_c': 1e-05, 'lr_a': 0.001, 'gamma': 0.99, 'tau': 0.001, 's_dim': 33, 'a_dim': 4}\n",
      "Episode 20\tAverage Score 100: 1.42\tAverage Score 10: 2.11\tScore: 3.17\tSteps: 1001"
     ]
    }
   ],
   "source": [
    "parameters = {\n",
    "    'lr_c': [1e-4, 1e-5],\n",
    "    'lr_a': [1e-3, 1e-4]\n",
    "}\n",
    "\n",
    "for idx, conf in enumerate(hp.hyper_space_ns(parameters)):\n",
    "    print('%d --------------------------------------------------------------' % idx)\n",
    "    conf.batch_size = 512\n",
    "    conf.buffer_size = int(1e5)\n",
    "    conf.lr_a = 1e-3\n",
    "    conf.wd_c = 0.0\n",
    "    conf.s_dim = env.get_state_dim() \n",
    "    conf.a_dim = env.get_action_dim()\n",
    "\n",
    "    print(conf)\n",
    "    helper.set_agents(ddpg.Agent(conf, device, env.get_num_agents()), 'tuning-%d' % idx)\n",
    "    helper.run_until(episodes=50, print_every=25)\n",
    "    print()\n",
    "helper.show_plot()"
   ]
  },
  {
   "cell_type": "markdown",
   "metadata": {},
   "source": [
    "Now we can choose the agent that can solve the environment"
   ]
  },
  {
   "cell_type": "code",
   "execution_count": null,
   "metadata": {},
   "outputs": [],
   "source": [
    "conf.batch_size = 512 # batch size for the learning phase\n",
    "conf.buffer_size = int(1e5) # size of the memory buffer\n",
    "conf.lr_c = 1e-4 # learning rate of critic\n",
    "conf.lr_a = 1e-3 # learning rate of agent\n",
    "conf.wd_c = 0.0 # weight decay of critic\n",
    "conf.s_dim = env.get_state_dim() \n",
    "conf.a_dim = env.get_action_dim()\n",
    "\n",
    "print(conf)\n",
    "helper.set_agents(ddpg.Agent(conf, device, env.get_num_agents()), 'final-run')\n",
    "helper.run_until(episodes=200, print_every=25)\n",
    "\n",
    "helper.show_plot()"
   ]
  },
  {
   "cell_type": "markdown",
   "metadata": {},
   "source": [
    "When finished, you can close the environment."
   ]
  },
  {
   "cell_type": "code",
   "execution_count": null,
   "metadata": {},
   "outputs": [],
   "source": [
    "env.close()"
   ]
  },
  {
   "cell_type": "code",
   "execution_count": null,
   "metadata": {},
   "outputs": [],
   "source": []
  }
 ],
 "metadata": {
  "kernelspec": {
   "display_name": "drlnd",
   "language": "python",
   "name": "drlnd"
  },
  "language_info": {
   "codemirror_mode": {
    "name": "ipython",
    "version": 3
   },
   "file_extension": ".py",
   "mimetype": "text/x-python",
   "name": "python",
   "nbconvert_exporter": "python",
   "pygments_lexer": "ipython3",
   "version": "3.6.8"
  }
 },
 "nbformat": 4,
 "nbformat_minor": 2
}
